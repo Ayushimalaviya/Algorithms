{
 "cells": [
  {
   "cell_type": "markdown",
   "id": "1f488ea7",
   "metadata": {},
   "source": [
    "### Bank Churn Classification Problem "
   ]
  },
  {
   "cell_type": "code",
   "execution_count": 3,
   "id": "eaa6ded6",
   "metadata": {},
   "outputs": [],
   "source": [
    "import pandas as pd\n",
    "import numpy as np \n",
    "import matplotlib.pyplot  as plt\n",
    "import seaborn as sns\n",
    "from sklearn.model_selection import train_test_split\n",
    "from sklearn.preprocessing import MinMaxScaler\n",
    "from sklearn.linear_model import LogisticRegression\n",
    "from sklearn.metrics import accuracy_score\n",
    "from sklearn.metrics import classification_report\n",
    "from sklearn.metrics import confusion_matrix\n",
    "from sklearn.svm import SVC\n",
    "from imblearn.over_sampling import SMOTE \n",
    "from sklearn.model_selection import GridSearchCV"
   ]
  },
  {
   "cell_type": "markdown",
   "id": "77313994",
   "metadata": {},
   "source": [
    "### Data Loading and Preprocessing"
   ]
  },
  {
   "cell_type": "markdown",
   "id": "f1537c29",
   "metadata": {},
   "source": [
    "1). Loaded the dataset "
   ]
  },
  {
   "cell_type": "code",
   "execution_count": 4,
   "id": "c0ab2582",
   "metadata": {},
   "outputs": [],
   "source": [
    "df = pd.read_csv('churn.csv', na_values = '?')"
   ]
  },
  {
   "cell_type": "markdown",
   "id": "6213c3c0",
   "metadata": {},
   "source": [
    "2). Shape of the dataset"
   ]
  },
  {
   "cell_type": "code",
   "execution_count": 5,
   "id": "133f2d1e",
   "metadata": {},
   "outputs": [
    {
     "data": {
      "text/plain": [
       "(10000, 14)"
      ]
     },
     "execution_count": 5,
     "metadata": {},
     "output_type": "execute_result"
    }
   ],
   "source": [
    "df.shape"
   ]
  },
  {
   "cell_type": "markdown",
   "id": "0741fc25",
   "metadata": {},
   "source": [
    "3). Drop the RowNumber, CustomerID and Surname columns."
   ]
  },
  {
   "cell_type": "code",
   "execution_count": 6,
   "id": "59ebf425",
   "metadata": {},
   "outputs": [],
   "source": [
    "df.drop(['RowNumber','CustomerId','Surname'], inplace=True,axis=1)"
   ]
  },
  {
   "cell_type": "markdown",
   "id": "5678ceeb",
   "metadata": {},
   "source": [
    "4). Checking null values"
   ]
  },
  {
   "cell_type": "code",
   "execution_count": 7,
   "id": "75310ddf",
   "metadata": {},
   "outputs": [
    {
     "data": {
      "text/plain": [
       "CreditScore        0\n",
       "Geography          0\n",
       "Gender             0\n",
       "Age                0\n",
       "Tenure             0\n",
       "Balance            0\n",
       "NumOfProducts      0\n",
       "HasCrCard          0\n",
       "IsActiveMember     0\n",
       "EstimatedSalary    0\n",
       "Exited             0\n",
       "dtype: int64"
      ]
     },
     "execution_count": 7,
     "metadata": {},
     "output_type": "execute_result"
    }
   ],
   "source": [
    "df.isnull().sum()"
   ]
  },
  {
   "cell_type": "code",
   "execution_count": 8,
   "id": "7e58c087",
   "metadata": {},
   "outputs": [
    {
     "data": {
      "text/plain": [
       "Index(['CreditScore', 'Geography', 'Gender', 'Age', 'Tenure', 'Balance',\n",
       "       'NumOfProducts', 'HasCrCard', 'IsActiveMember', 'EstimatedSalary',\n",
       "       'Exited'],\n",
       "      dtype='object')"
      ]
     },
     "execution_count": 8,
     "metadata": {},
     "output_type": "execute_result"
    }
   ],
   "source": [
    "df.columns"
   ]
  },
  {
   "cell_type": "markdown",
   "id": "95834f39",
   "metadata": {},
   "source": [
    "6). Create a dataframe X of features and targets Y  "
   ]
  },
  {
   "cell_type": "code",
   "execution_count": 9,
   "id": "b5e00a6e",
   "metadata": {},
   "outputs": [],
   "source": [
    "X = df.loc[:,df.columns.drop(['Exited'])]\n",
    "y = df['Exited']"
   ]
  },
  {
   "cell_type": "markdown",
   "id": "d0d40d0f",
   "metadata": {},
   "source": [
    "### Data Visualisation"
   ]
  },
  {
   "cell_type": "markdown",
   "id": "2e4bf910",
   "metadata": {},
   "source": [
    "1). Visualize the distribution of the ‘Age’ and ‘CreditScore’ column"
   ]
  },
  {
   "cell_type": "code",
   "execution_count": 10,
   "id": "b4fcdead",
   "metadata": {},
   "outputs": [
    {
     "data": {
      "image/png": "[encoded data removed]",
      "text/plain": [
       "<Figure size 800x400 with 2 Axes>"
      ]
     },
     "metadata": {},
     "output_type": "display_data"
    }
   ],
   "source": [
    "df1 = X[['Age','CreditScore']]\n",
    "fig, axes = plt.subplots(1, 2, figsize=(8,4))\n",
    "for axis, col in enumerate(df1.columns.tolist()):\n",
    "    df1[col].plot.hist(ax=axes[axis],bins=7, title=col)\n",
    "fig.tight_layout()"
   ]
  },
  {
   "cell_type": "code",
   "execution_count": 11,
   "id": "2ad89429",
   "metadata": {},
   "outputs": [
    {
     "name": "stdout",
     "output_type": "stream",
     "text": [
      "38.9218\n",
      "650.5288\n",
      "10.487806451704591\n",
      "96.65329873613061\n"
     ]
    }
   ],
   "source": [
    "print(X['Age'].mean())\n",
    "print(X['CreditScore'].mean())\n",
    "print(X['Age'].std())\n",
    "print(X['CreditScore'].std())"
   ]
  },
  {
   "cell_type": "markdown",
   "id": "a45fbbe0",
   "metadata": {},
   "source": [
    "2). Visualize a barchart for ‘Gender’, ‘Geography’ and ‘IsActiveMember’ features for given dataset."
   ]
  },
  {
   "cell_type": "code",
   "execution_count": 12,
   "id": "a4f5dd9e",
   "metadata": {},
   "outputs": [
    {
     "data": {
      "image/png": "[encoded data removed]",
      "text/plain": [
       "<Figure size 900x400 with 2 Axes>"
      ]
     },
     "metadata": {},
     "output_type": "display_data"
    }
   ],
   "source": [
    "df1 = X[(X['Gender']=='Male')]\n",
    "df2 = X[(X['Gender']=='Female')]\n",
    "fig, axes = plt.subplots(1, 2, figsize=(9,4))\n",
    "sns.countplot(x ='Geography', hue = \"IsActiveMember\", data = df1, ax=axes[0]).set(title='Male in their respective classes')\n",
    "sns.countplot(x ='Geography', hue = \"IsActiveMember\", data = df2, ax=axes[1]).set(title='Survived Female in their respective classes')\n",
    "fig.tight_layout()"
   ]
  },
  {
   "cell_type": "markdown",
   "id": "60dacf7c",
   "metadata": {},
   "source": [
    "3). plot a bar chart showing the distribution of the ‘Exited’ column"
   ]
  },
  {
   "cell_type": "code",
   "execution_count": 13,
   "id": "c84ce647",
   "metadata": {},
   "outputs": [
    {
     "data": {
      "image/png": "[encoded data removed]",
      "text/plain": [
       "<Figure size 500x500 with 1 Axes>"
      ]
     },
     "metadata": {},
     "output_type": "display_data"
    }
   ],
   "source": [
    "dft = df.Exited.value_counts()\n",
    "dic = {'0':7963, '1':2037}\n",
    "classes = list(dic.keys())\n",
    "values = list(dic.values())\n",
    "  \n",
    "fig = plt.figure(figsize = (5, 5))\n",
    " \n",
    "# creating the bar plot\n",
    "plt.bar(classes, values, color ='blue')\n",
    " \n",
    "plt.xlabel(\"Excited\")\n",
    "plt.ylabel(\"counts\")\n",
    "plt.title(\"Distribution of the ‘Exited’ column \")\n",
    "plt.show()    "
   ]
  },
  {
   "cell_type": "markdown",
   "id": "e9075cba",
   "metadata": {},
   "source": [
    "Convert categorical data into dummy variables "
   ]
  },
  {
   "cell_type": "code",
   "execution_count": 14,
   "id": "c11f3933",
   "metadata": {},
   "outputs": [],
   "source": [
    "X= pd.get_dummies(X, columns=['Gender','Geography'])"
   ]
  },
  {
   "cell_type": "markdown",
   "id": "3b7b1e7c",
   "metadata": {},
   "source": [
    "### Data Splitting"
   ]
  },
  {
   "cell_type": "markdown",
   "id": "f2d697d1",
   "metadata": {},
   "source": [
    "1).Split data into training and test sets "
   ]
  },
  {
   "cell_type": "code",
   "execution_count": 15,
   "id": "7a20c123",
   "metadata": {},
   "outputs": [
    {
     "data": {
      "text/plain": [
       "(10000, 13)"
      ]
     },
     "execution_count": 15,
     "metadata": {},
     "output_type": "execute_result"
    }
   ],
   "source": [
    "X.shape"
   ]
  },
  {
   "cell_type": "code",
   "execution_count": 16,
   "id": "34ddb0da",
   "metadata": {},
   "outputs": [],
   "source": [
    "X_train, X_test, y_train,y_test = train_test_split(X,y, test_size=0.2)"
   ]
  },
  {
   "cell_type": "markdown",
   "id": "e8c260b9",
   "metadata": {},
   "source": [
    "### Data Scaling "
   ]
  },
  {
   "cell_type": "markdown",
   "id": "bf91ca3f",
   "metadata": {},
   "source": [
    "1). Employ the ‘MinMaxScaler’  function on the continuous attribute"
   ]
  },
  {
   "cell_type": "code",
   "execution_count": 17,
   "id": "85fa8512",
   "metadata": {},
   "outputs": [],
   "source": [
    "sc_scaled = MinMaxScaler()\n",
    "X_train = sc_scaled.fit_transform(X_train)\n",
    "X_test = sc_scaled.transform(X_test)"
   ]
  },
  {
   "cell_type": "markdown",
   "id": "ad4e8116",
   "metadata": {},
   "source": [
    "### Modelling "
   ]
  },
  {
   "cell_type": "code",
   "execution_count": 18,
   "id": "2d311863",
   "metadata": {},
   "outputs": [],
   "source": [
    "model_1_lr = LogisticRegression() #Employ the Logistic Regression and instantiate the model"
   ]
  },
  {
   "cell_type": "code",
   "execution_count": 19,
   "id": "a75ee331",
   "metadata": {},
   "outputs": [
    {
     "data": {
      "text/plain": [
       "LogisticRegression()"
      ]
     },
     "execution_count": 19,
     "metadata": {},
     "output_type": "execute_result"
    }
   ],
   "source": [
    "model_1_lr.fit(X_train, y_train) #fit() the model using the scaled X_train, y_train data."
   ]
  },
  {
   "cell_type": "code",
   "execution_count": 20,
   "id": "b7cb8432",
   "metadata": {},
   "outputs": [],
   "source": [
    "y_pred_lr = model_1_lr.predict(X_test)#`predict()` function to obtain predictions on X_test "
   ]
  },
  {
   "cell_type": "code",
   "execution_count": 21,
   "id": "27da2224",
   "metadata": {},
   "outputs": [
    {
     "name": "stdout",
     "output_type": "stream",
     "text": [
      "Accuracy Score is: 0.809\n",
      "\n",
      "\n",
      "\n",
      "classification_report: \n",
      "               precision    recall  f1-score   support\n",
      "\n",
      "           0       0.82      0.97      0.89      1592\n",
      "           1       0.60      0.20      0.30       408\n",
      "\n",
      "    accuracy                           0.81      2000\n",
      "   macro avg       0.71      0.58      0.59      2000\n",
      "weighted avg       0.78      0.81      0.77      2000\n",
      " \n",
      "\n",
      "\n",
      "Confusion Matrix of data predicted \n",
      " [[1538   54]\n",
      " [ 328   80]] \n",
      "\n",
      "\n"
     ]
    }
   ],
   "source": [
    "print('Accuracy Score is:',accuracy_score(y_test, y_pred_lr))\n",
    "print('\\n\\n\\nclassification_report: \\n',classification_report(y_test, y_pred_lr),'\\n\\n') \n",
    "print('Confusion Matrix of data predicted \\n',confusion_matrix(y_test, y_pred_lr),'\\n\\n') "
   ]
  },
  {
   "cell_type": "code",
   "execution_count": 22,
   "id": "27ea0bee",
   "metadata": {},
   "outputs": [],
   "source": [
    "model_2_svm = SVC() #Employ the Support Vector Machine (SVM) and instantiate the model"
   ]
  },
  {
   "cell_type": "code",
   "execution_count": 23,
   "id": "d18d4834",
   "metadata": {},
   "outputs": [
    {
     "data": {
      "text/plain": [
       "SVC()"
      ]
     },
     "execution_count": 23,
     "metadata": {},
     "output_type": "execute_result"
    }
   ],
   "source": [
    "model_2_svm.fit(X_train, y_train) #‘fit()’ the model using the scaled X_train, y_train data"
   ]
  },
  {
   "cell_type": "code",
   "execution_count": 24,
   "id": "fe988d3b",
   "metadata": {},
   "outputs": [],
   "source": [
    "y_pred_svm = model_2_svm.predict(X_test) #‘predict()’ function to obtain predictions on X_test  "
   ]
  },
  {
   "cell_type": "code",
   "execution_count": 25,
   "id": "d62a38f8",
   "metadata": {},
   "outputs": [
    {
     "name": "stdout",
     "output_type": "stream",
     "text": [
      "Accuracy Score is: 0.83\n",
      "\n",
      "\n",
      "\n",
      "classification_report: \n",
      "               precision    recall  f1-score   support\n",
      "\n",
      "           0       0.83      0.99      0.90      1592\n",
      "           1       0.82      0.21      0.34       408\n",
      "\n",
      "    accuracy                           0.83      2000\n",
      "   macro avg       0.83      0.60      0.62      2000\n",
      "weighted avg       0.83      0.83      0.79      2000\n",
      " \n",
      "\n",
      "\n",
      "Confusion Matrix of data predicted \n",
      " [[1573   19]\n",
      " [ 321   87]] \n",
      "\n",
      "\n"
     ]
    }
   ],
   "source": [
    "print('Accuracy Score is:',accuracy_score(y_test, y_pred_svm))\n",
    "print('\\n\\n\\nclassification_report: \\n',classification_report(y_test, y_pred_svm),'\\n\\n') \n",
    "print('Confusion Matrix of data predicted \\n',confusion_matrix(y_test, y_pred_svm),'\\n\\n') "
   ]
  },
  {
   "cell_type": "code",
   "execution_count": 26,
   "id": "1e4e75a3",
   "metadata": {},
   "outputs": [],
   "source": [
    "smote = SMOTE()"
   ]
  },
  {
   "cell_type": "code",
   "execution_count": 27,
   "id": "75d2c6d2",
   "metadata": {},
   "outputs": [],
   "source": [
    "X_train_smote, y_train_smote = smote.fit_resample(X_train, y_train)#refit function on X_train and y_train"
   ]
  },
  {
   "cell_type": "code",
   "execution_count": 28,
   "id": "67c11ad2",
   "metadata": {},
   "outputs": [],
   "source": [
    "model_3_smote_lr = LogisticRegression()#Employ a new Logistic Regression classifier "
   ]
  },
  {
   "cell_type": "code",
   "execution_count": 29,
   "id": "b7c911ea",
   "metadata": {},
   "outputs": [
    {
     "data": {
      "text/plain": [
       "LogisticRegression()"
      ]
     },
     "execution_count": 29,
     "metadata": {},
     "output_type": "execute_result"
    }
   ],
   "source": [
    "model_3_smote_lr.fit(X_train_smote,y_train_smote)#fit() the model using the balanced X_train_smote, y_train_smote data."
   ]
  },
  {
   "cell_type": "code",
   "execution_count": 30,
   "id": "7ee9c347",
   "metadata": {},
   "outputs": [],
   "source": [
    "y_pred_smote_lr = model_3_smote_lr.predict(X_test)#predict() function to obtain predictions on X_test "
   ]
  },
  {
   "cell_type": "code",
   "execution_count": 31,
   "id": "6018019f",
   "metadata": {},
   "outputs": [
    {
     "name": "stdout",
     "output_type": "stream",
     "text": [
      "Accuracy Score is: 0.717\n",
      "\n",
      "\n",
      "\n",
      "classification_report: \n",
      "               precision    recall  f1-score   support\n",
      "\n",
      "           0       0.89      0.73      0.80      1592\n",
      "           1       0.39      0.66      0.49       408\n",
      "\n",
      "    accuracy                           0.72      2000\n",
      "   macro avg       0.64      0.70      0.65      2000\n",
      "weighted avg       0.79      0.72      0.74      2000\n",
      " \n",
      "\n",
      "\n",
      "Confusion Matrix of data predicted \n",
      " [[1163  429]\n",
      " [ 137  271]] \n",
      "\n",
      "\n"
     ]
    }
   ],
   "source": [
    "print('Accuracy Score is:',accuracy_score(y_test, y_pred_smote_lr))\n",
    "print('\\n\\n\\nclassification_report: \\n',classification_report(y_test, y_pred_smote_lr),'\\n\\n') \n",
    "print('Confusion Matrix of data predicted \\n',confusion_matrix(y_test, y_pred_smote_lr),'\\n\\n') "
   ]
  },
  {
   "cell_type": "code",
   "execution_count": 32,
   "id": "7a774cd1",
   "metadata": {},
   "outputs": [],
   "source": [
    "model_4_smote_svm = SVC()#Employ a new SVM classifier from sklearn and instantiate the model"
   ]
  },
  {
   "cell_type": "code",
   "execution_count": 33,
   "id": "5c2a9a71",
   "metadata": {},
   "outputs": [
    {
     "data": {
      "text/plain": [
       "SVC()"
      ]
     },
     "execution_count": 33,
     "metadata": {},
     "output_type": "execute_result"
    }
   ],
   "source": [
    "model_4_smote_svm.fit(X_train_smote, y_train_smote)#‘fit()’ the model"
   ]
  },
  {
   "cell_type": "code",
   "execution_count": 34,
   "id": "2b85003d",
   "metadata": {},
   "outputs": [],
   "source": [
    "y_pred_smote_svm = model_4_smote_svm.predict(X_test)#‘predict()’ function to obtain predictions on X_test "
   ]
  },
  {
   "cell_type": "code",
   "execution_count": 35,
   "id": "24a41469",
   "metadata": {},
   "outputs": [
    {
     "name": "stdout",
     "output_type": "stream",
     "text": [
      "Accuracy Score is: 0.7755\n",
      "\n",
      "\n",
      "\n",
      "classification_report: \n",
      "               precision    recall  f1-score   support\n",
      "\n",
      "           0       0.90      0.81      0.85      1592\n",
      "           1       0.46      0.64      0.54       408\n",
      "\n",
      "    accuracy                           0.78      2000\n",
      "   macro avg       0.68      0.73      0.70      2000\n",
      "weighted avg       0.81      0.78      0.79      2000\n",
      " \n",
      "\n",
      "\n",
      "Confusion Matrix of data predicted \n",
      " [[1288  304]\n",
      " [ 145  263]] \n",
      "\n",
      "\n"
     ]
    }
   ],
   "source": [
    "print('Accuracy Score is:',accuracy_score(y_test, y_pred_smote_svm))\n",
    "print('\\n\\n\\nclassification_report: \\n',classification_report(y_test, y_pred_smote_svm),'\\n\\n') \n",
    "print('Confusion Matrix of data predicted \\n',confusion_matrix(y_test, y_pred_smote_svm),'\\n\\n') "
   ]
  },
  {
   "cell_type": "code",
   "execution_count": 36,
   "id": "85cd84d2",
   "metadata": {},
   "outputs": [],
   "source": [
    "param_grid = {\"gamma\": [0.001, 0.01, 0.1], \"C\": [1,10,100,1000,10000]} #Initialize a variable label"
   ]
  },
  {
   "cell_type": "code",
   "execution_count": 37,
   "id": "1ea916c0",
   "metadata": {},
   "outputs": [],
   "source": [
    "model_3_grid = GridSearchCV(estimator = SVC(), param_grid = param_grid, cv=5, verbose =1, scoring = 'accuracy')"
   ]
  },
  {
   "cell_type": "code",
   "execution_count": 38,
   "id": "84d96d38",
   "metadata": {},
   "outputs": [
    {
     "name": "stdout",
     "output_type": "stream",
     "text": [
      "Fitting 5 folds for each of 15 candidates, totalling 75 fits\n"
     ]
    },
    {
     "data": {
      "text/plain": [
       "GridSearchCV(cv=5, estimator=SVC(),\n",
       "             param_grid={'C': [1, 10, 100, 1000, 10000],\n",
       "                         'gamma': [0.001, 0.01, 0.1]},\n",
       "             scoring='accuracy', verbose=1)"
      ]
     },
     "execution_count": 38,
     "metadata": {},
     "output_type": "execute_result"
    }
   ],
   "source": [
    "model_3_grid.fit(X_train_smote, y_train_smote)"
   ]
  },
  {
   "cell_type": "code",
   "execution_count": 42,
   "id": "6bdeefcb",
   "metadata": {},
   "outputs": [
    {
     "data": {
      "text/plain": [
       "{'C': 10000, 'gamma': 0.1}"
      ]
     },
     "execution_count": 42,
     "metadata": {},
     "output_type": "execute_result"
    }
   ],
   "source": [
    "model_3_grid.best_params_ #best paramaters"
   ]
  },
  {
   "cell_type": "code",
   "execution_count": 43,
   "id": "1b803fb5",
   "metadata": {},
   "outputs": [
    {
     "data": {
      "text/plain": [
       "0.8194954403887881"
      ]
     },
     "execution_count": 43,
     "metadata": {},
     "output_type": "execute_result"
    }
   ],
   "source": [
    "model_3_grid.best_score_ #cross validated"
   ]
  },
  {
   "cell_type": "code",
   "execution_count": 44,
   "id": "231af47c",
   "metadata": {},
   "outputs": [
    {
     "data": {
      "text/plain": [
       "0.779"
      ]
     },
     "execution_count": 44,
     "metadata": {},
     "output_type": "execute_result"
    }
   ],
   "source": [
    "model_3_grid.score(X_test,y_test) #score"
   ]
  },
  {
   "cell_type": "code",
   "execution_count": 45,
   "id": "3fa41fe3",
   "metadata": {},
   "outputs": [],
   "source": [
    "y_pred_grid = model_3_grid.predict(X_test)"
   ]
  },
  {
   "cell_type": "code",
   "execution_count": 46,
   "id": "d70ff5ce",
   "metadata": {},
   "outputs": [
    {
     "name": "stdout",
     "output_type": "stream",
     "text": [
      "Accuracy Score is: 0.779\n",
      "\n",
      "\n",
      "\n",
      "classification_report: \n",
      "               precision    recall  f1-score   support\n",
      "\n",
      "           0       0.91      0.80      0.85      1592\n",
      "           1       0.47      0.70      0.56       408\n",
      "\n",
      "    accuracy                           0.78      2000\n",
      "   macro avg       0.69      0.75      0.71      2000\n",
      "weighted avg       0.82      0.78      0.79      2000\n",
      " \n",
      "\n",
      "\n",
      "Confusion Matrix of data predicted \n",
      " [[1272  320]\n",
      " [ 122  286]] \n",
      "\n",
      "\n"
     ]
    }
   ],
   "source": [
    "print('Accuracy Score is:',accuracy_score(y_test, y_pred_grid))\n",
    "print('\\n\\n\\nclassification_report: \\n',classification_report(y_test, y_pred_grid),'\\n\\n')\n",
    "print('Confusion Matrix of data predicted \\n',confusion_matrix(y_test, y_pred_grid),'\\n\\n')"
   ]
  }
 ],
 "metadata": {
  "kernelspec": {
   "display_name": "Python 3 (ipykernel)",
   "language": "python",
   "name": "python3"
  },
  "language_info": {
   "codemirror_mode": {
    "name": "ipython",
    "version": 3
   },
   "file_extension": ".py",
   "mimetype": "text/x-python",
   "name": "python",
   "nbconvert_exporter": "python",
   "pygments_lexer": "ipython3",
   "version": "3.9.13"
  }
 },
 "nbformat": 4,
 "nbformat_minor": 5
}
